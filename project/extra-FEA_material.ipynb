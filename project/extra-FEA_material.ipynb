{
 "cells": [
  {
   "cell_type": "markdown",
   "metadata": {},
   "source": [
    "# Extra Material: Direct stiffness methof for Finite Element analysis (FEA)\n",
    "\n",
    "The direct stiffness approach looks at the stiffness of each individual element and adds them to the overall stiffness of the FEA structure. Starting with a single element, show below we have the following relation between forces applied and deformation\n",
    "\n",
    "![Single link element with forces applied to both ends](../images/link_elem.png)"
   ]
  },
  {
   "cell_type": "markdown",
   "metadata": {},
   "source": [
    "$\\mathbf{F}_{el} = \\mathbf{K}_{el}\\mathbf{u}$\n",
    "\n",
    "where \n",
    "\n",
    "$\\mathbf{F}_{el}=\\left[\\begin{array}{c}\n",
    "        F_{1x}\\\\\n",
    "        F_{1y}\\\\\n",
    "        F_{2x}\\\\\n",
    "        F_{2y}\\end{array}\\right]$\n",
    "\n",
    "$\\mathbf{u}=\\left[\\begin{array}{c}\n",
    "        u_{1x}\\\\\n",
    "        u_{1y}\\\\\n",
    "        u_{2x}\\\\\n",
    "        u_{2y}\\end{array}\\right]$, \n",
    "        \n",
    "and \n",
    "\n",
    "$\\mathbf{K}_{el}=\\frac{EA}{l}\\left[\\begin{array}{cccc}\n",
    "        \\cos^2\\theta & \\cos\\theta\\sin\\theta & -\\cos^2\\theta & -\\cos\\theta\\sin\\theta\\\\\n",
    "        \\cos\\theta\\sin\\theta & \\sin^2\\theta & -\\cos\\theta\\sin\\theta & -\\sin^2\\theta &\\\\\n",
    "        -\\cos^2\\theta & -\\cos\\theta\\sin\\theta & \\cos^2\\theta & \\cos\\theta\\sin\\theta\\\\\n",
    "        -\\cos\\theta\\sin\\theta & -\\sin^2\\theta & \\cos\\theta\\sin\\theta & \\sin^2\\theta &\\\\\n",
    "        \\end{array}\\right]$. \n",
    "        "
   ]
  },
  {
   "cell_type": "markdown",
   "metadata": {},
   "source": [
    "For a linear-elastic, small deformation FEA, we assume that the angle $\\theta$ remains constant before/after deformation. So our stiffness matrix, $\\mathbf{K}_{el}$ is constant once the geometry of the simulation is initialized. So, for a single link element that is deformed by $\\mathbf{u}$, the force that is applied to create that deformation is given by our first equation. \n",
    "\n",
    "Consider a single aluminum bar $(E=70~GPa)$, with cross-section of $1~mm^2$, and length of 1 meter. If it is initially at an angle of $45^{o}$ pinned at one end and stretched 2 mm to along the x-direction, we have the following deformation and stiffness, \n",
    "\n",
    "$\\mathbf{u}=\\left[\\begin{array}{c}\n",
    "        0\\\\\n",
    "        0\\\\\n",
    "        2\\\\\n",
    "        0\\end{array}\\right]~mm$, \n",
    "        \n",
    "$\\mathbf{K}_{el}=70\\frac{N}{mm}\\left[\\begin{array}{cccc}\n",
    "        1/2 & 1/2 & -1/2 & -1/2\\\\\n",
    "        1/2 & 1/2 & -1/2 & -1/2 &\\\\\n",
    "        -1/2 & -1/2 & 1/2 & 1/2\\\\\n",
    "        -1/2 & -1/2 & 1/2 & 1/2 &\\\\\n",
    "        \\end{array}\\right]$. "
   ]
  },
  {
   "cell_type": "code",
   "execution_count": 1,
   "metadata": {},
   "outputs": [],
   "source": [
    "import numpy as np\n",
    "import matplotlib.pyplot as plt\n",
    "from matplotlib import rcParams\n",
    "rcParams['font.family'] = 'sans'\n",
    "rcParams['font.size'] = 16\n",
    "rcParams['lines.linewidth'] = 3"
   ]
  },
  {
   "cell_type": "code",
   "execution_count": 2,
   "metadata": {},
   "outputs": [],
   "source": [
    "u=np.array([0,0,2,0])\n",
    "K=70*np.array([[1/2,1/2,-1/2,-1/2],[1/2,1/2,-1/2,-1/2],[-1/2,-1/2,1/2,1/2],[-1/2,-1/2,1/2,1/2]])"
   ]
  },
  {
   "cell_type": "code",
   "execution_count": 3,
   "metadata": {},
   "outputs": [
    {
     "name": "stdout",
     "output_type": "stream",
     "text": [
      "[F1x, F1y, F2x, F2y] =  [-70. -70.  70.  70.] N\n"
     ]
    }
   ],
   "source": [
    "F=K@u\n",
    "print('[F1x, F1y, F2x, F2y] = ',F,'N')"
   ]
  },
  {
   "cell_type": "markdown",
   "metadata": {},
   "source": [
    "So to stretch the 1-meter by $1~mm^2$ link from its initial configuration to the right by 2 mm, it takes a $\\mathbf{F}=70\\hat{i}+70\\hat{j}$ force and a negative $\\mathbf{F}$ reaction force. "
   ]
  },
  {
   "cell_type": "code",
   "execution_count": 4,
   "metadata": {},
   "outputs": [
    {
     "data": {
      "text/plain": [
       "Text(0.5,1,'forces and deformation of single Al-bar\\nscale factor = 10')"
      ]
     },
     "execution_count": 4,
     "metadata": {},
     "output_type": "execute_result"
    },
    {
     "data": {
      "image/png": "[encoded data removed]",
      "text/plain": [
       "<Figure size 432x288 with 1 Axes>"
      ]
     },
     "metadata": {
      "needs_background": "light"
     },
     "output_type": "display_data"
    }
   ],
   "source": [
    "# scale factor\n",
    "s=10\n",
    "x0=np.array([0,1/2**0.5])\n",
    "y0=np.array([0,1/2**0.5])\n",
    "x=x0+u[0::2]*1e-3*s\n",
    "y=y0+u[1::2]*1e-3*s\n",
    "\n",
    "plt.plot(x0,y0,'o-',label='initial position')\n",
    "plt.plot(x,y,'s-',label='final position')\n",
    "plt.quiver(x,y,F[0::2]*s,F[1::2]*s)\n",
    "plt.title('forces and deformation of single Al-bar\\nscale factor = {}'.format(s))"
   ]
  },
  {
   "cell_type": "markdown",
   "metadata": {},
   "source": [
    "# Combining multiple elements\n",
    "\n",
    "This method can be extended to multiple, connected bars. We just have to do some extra book-keeping. Let's consider the 3-bar element that we used in [02_Gauss_elimination](../notebooks/02_Gauss_elimination.ipynb).\n",
    "\n",
    "![Triangular truss](../images/truss.png)"
   ]
  },
  {
   "cell_type": "markdown",
   "metadata": {},
   "source": [
    "We have 3 elements and 3 nodes, so there are 6 degrees of freedom, with 3 constraints. Let's use 1-m aluminum bars with $A=1~mm^2$, but set $\\alpha=\\beta=60^{o}$. \n",
    "\n",
    "Each element still has the stiffness defined above,\n",
    "\n",
    "$\\mathbf{K}_{el}=\\frac{EA}{l}\\left[\\begin{array}{cccc}\n",
    "        \\cos^2\\theta & \\cos\\theta\\sin\\theta & -\\cos^2\\theta & -\\cos\\theta\\sin\\theta\\\\\n",
    "        \\cos\\theta\\sin\\theta & \\sin^2\\theta & -\\cos\\theta\\sin\\theta & -\\sin^2\\theta &\\\\\n",
    "        -\\cos^2\\theta & -\\cos\\theta\\sin\\theta & \\cos^2\\theta & \\cos\\theta\\sin\\theta\\\\\n",
    "        -\\cos\\theta\\sin\\theta & -\\sin^2\\theta & \\cos\\theta\\sin\\theta & \\sin^2\\theta &\\\\\n",
    "        \\end{array}\\right]$, \n",
    "\n",
    "but there are two extra things to consider. The angle $\\theta$ is different for each bar, and the connections are in different locations for each bar. \n",
    "\n",
    "so if the initial geometry, $\\mathbf{r}$, is \n",
    "\n",
    "$\\mathbf{r}=\\left[\\begin{array}{c}\n",
    "        x_1\\\\\n",
    "        y_{1}\\\\\n",
    "        x_{2}\\\\\n",
    "        y_{2}\\\\\n",
    "        x_3 \\\\\n",
    "        y_3\\end{array}\\right]=\n",
    "        \\left[\\begin{array}{c}\n",
    "        0\\\\\n",
    "        0\\\\\n",
    "        0.5 \\\\\n",
    "        \\sqrt{3}/2\\\\\n",
    "        1 \\\\\n",
    "        0\\end{array}\\right]~m$\n",
    "\n",
    "then, the displacement, \n",
    "\n",
    "$\\mathbf{u}=\\left[\\begin{array}{c}\n",
    "        u_{1x}\\\\\n",
    "        u_{1y}\\\\\n",
    "        u_{2x}\\\\\n",
    "        u_{2y}\\\\\n",
    "        u_{3x}\\\\\n",
    "        u_{3y}\\end{array}\\right]=\n",
    "        \\left[\\begin{array}{c}\n",
    "        0\\\\\n",
    "        0\\\\\n",
    "        u_{2x}\\\\\n",
    "        u_{2y}\\\\\n",
    "        u_{3x}\\\\\n",
    "        0\\end{array}\\right]$, \n"
   ]
  },
  {
   "cell_type": "markdown",
   "metadata": {},
   "source": [
    "The forces applied at each joint must equal the sum of the terms \n",
    "\n",
    "$\\mathbf{F} = \\mathbf{K_1 u}+\\mathbf{K_2 u}+\\mathbf{K_3 u}$\n",
    "\n",
    "where, $\\mathbf{K_i}$ is the stiffness of the structure due to element $\\mathbf{i}$, as such\n",
    "\n",
    "$\\mathbf{K}_{1}=\\frac{EA}{l}\\left[\\begin{array}{cccc}\n",
    "        \\cos^2\\theta_1 & \\cos\\theta_1\\sin\\theta_1 & 0 & 0 & -\\cos^2\\theta_1 & -\\cos\\theta_1\\sin\\theta_1 \\\\\n",
    "        \\cos\\theta_1\\sin\\theta_1 & \\sin^2\\theta_1 & 0 & 0 & -\\cos\\theta_1\\sin\\theta_1 & -\\sin^2\\theta_1 \\\\\n",
    "        0 & 0 & 0 & 0 & 0 & 0 \\\\\n",
    "        0 & 0 & 0 & 0 & 0 & 0 \\\\\n",
    "        -\\cos^2\\theta_1 & -\\cos\\theta_1\\sin\\theta_1 & 0 & 0 & \\cos^2\\theta_1 & \\cos\\theta_1\\sin\\theta_1 \\\\\n",
    "        -\\cos\\theta_1\\sin\\theta_1 & -\\sin^2\\theta_1 & 0 & 0 & \\cos\\theta_1\\sin\\theta_1 & \\sin^2\\theta_1 \\\\\n",
    "        \\end{array}\\right]$\n",
    "\n",
    "$\\mathbf{K}_{2}=\\frac{EA}{l}\\left[\\begin{array}{cccc}\n",
    "        \\cos^2\\theta_2 & \\cos\\theta_2\\sin\\theta_2 & -\\cos^2\\theta_2 & -\\cos\\theta_2\\sin\\theta_2 & 0 & 0\\\\\n",
    "        \\cos\\theta_2\\sin\\theta_2 & \\sin^2\\theta_2 & -\\cos\\theta_2\\sin\\theta_2 & -\\sin^2\\theta_2 & 0 & 0\\\\\n",
    "        -\\cos^2\\theta_2 & -\\cos\\theta_2\\sin\\theta_2 & \\cos^2\\theta_2 & \\cos\\theta_2\\sin\\theta_2 & 0 & 0\\\\\n",
    "        -\\cos\\theta_2\\sin\\theta_2 & -\\sin^2\\theta_2 & \\cos\\theta_2\\sin\\theta_2 & \\sin^2\\theta_2  & 0 & 0\\\\\n",
    "        0 & 0 & 0 & 0 & 0 & 0 \\\\\n",
    "        0 & 0 & 0 & 0 & 0 & 0 \n",
    "        \\end{array}\\right]$\n",
    "\n",
    "$\\mathbf{K}_{3}=\\frac{EA}{l}\\left[\\begin{array}{cccc}\n",
    "        0 & 0 & 0 & 0 & 0 & 0 \\\\\n",
    "        0 & 0 & 0 & 0 & 0 & 0 \\\\\n",
    "        0 & 0 &\\cos^2\\theta_3 & \\cos\\theta_3\\sin\\theta_3 & -\\cos^2\\theta_3 & -\\cos\\theta_3\\sin\\theta_3 \\\\\n",
    "        0 & 0 &\\cos\\theta_3\\sin\\theta_3 & \\sin^2\\theta_3 & -\\cos\\theta_3\\sin\\theta_3 & -\\sin^2\\theta_3 \\\\\n",
    "        0 & 0 &-\\cos^2\\theta_3 & -\\cos\\theta_3\\sin\\theta_3 & \\cos^2\\theta_3 & \\cos\\theta_3\\sin\\theta_3 \\\\\n",
    "        0 & 0 &-\\cos\\theta_3\\sin\\theta_3 & -\\sin^2\\theta_3 & \\cos\\theta_3\\sin\\theta_3 & \\sin^2\\theta_3 \\\\\n",
    "        \\end{array}\\right]$\n",
    "\n",
    "\n"
   ]
  },
  {
   "cell_type": "code",
   "execution_count": 5,
   "metadata": {},
   "outputs": [
    {
     "name": "stdout",
     "output_type": "stream",
     "text": [
      "[[ 1.  0.  0.  0. -1. -0.]\n",
      " [ 0.  0.  0.  0. -0. -0.]\n",
      " [ 0.  0.  0.  0.  0.  0.]\n",
      " [ 0.  0.  0.  0.  0.  0.]\n",
      " [-1. -0.  0.  0.  1.  0.]\n",
      " [-0. -0.  0.  0.  0.  0.]]\n"
     ]
    }
   ],
   "source": [
    "Ke1 = lambda a: np.array([[np.cos(a)**2,np.cos(a)*np.sin(a)],[np.cos(a)*np.sin(a),np.sin(a)**2]])\n",
    "Ke2 = lambda a: np.array([[-np.cos(a)**2,-np.cos(a)*np.sin(a)],[-np.cos(a)*np.sin(a),-np.sin(a)**2]])\n",
    "\n",
    "K1 = np.zeros((6,6))\n",
    "K2 = np.zeros((6,6))\n",
    "K3 = np.zeros((6,6))\n",
    "\n",
    "K1[0:2,0:2]=Ke1(0)\n",
    "K1[4:6,4:6]=Ke1(0)\n",
    "K1[0:2,4:6]=Ke2(0)\n",
    "K1[4:6,0:2]=Ke2(0)\n",
    "K2[0:4,0:4]=np.block([[Ke1(np.pi/3),Ke2(np.pi/3)],[Ke2(np.pi/3),Ke1(np.pi/3)]])\n",
    "K3[2:6,2:6]=np.block([[Ke1(2*np.pi/3),Ke2(2*np.pi/3)],[Ke2(2*np.pi/3),Ke1(2*np.pi/3)]])\n",
    "print(K1)"
   ]
  },
  {
   "cell_type": "code",
   "execution_count": 6,
   "metadata": {},
   "outputs": [
    {
     "name": "stdout",
     "output_type": "stream",
     "text": [
      "[ 87.5         30.31088913 -17.5        -30.31088913 -70.\n",
      "   0.        ]\n",
      "[ 30.31088913  52.5        -30.31088913 -52.5          0.\n",
      "   0.        ]\n",
      "[-1.75000000e+01 -3.03108891e+01  3.50000000e+01  1.55431223e-14\n",
      " -1.75000000e+01  3.03108891e+01]\n",
      "[-3.03108891e+01 -5.25000000e+01  1.55431223e-14  1.05000000e+02\n",
      "  3.03108891e+01 -5.25000000e+01]\n",
      "[-70.           0.         -17.5         30.31088913  87.5\n",
      " -30.31088913]\n",
      "[  0.           0.          30.31088913 -52.5        -30.31088913\n",
      "  52.5       ]\n"
     ]
    }
   ],
   "source": [
    "E=70e3\n",
    "A=1\n",
    "l=1e3\n",
    "K = E*A/l*(K1+K2+K3)\n",
    "for k in K:\n",
    "    print(k)"
   ]
  },
  {
   "cell_type": "code",
   "execution_count": 7,
   "metadata": {},
   "outputs": [],
   "source": [
    "ufree=np.linalg.solve(K[2:5,2:5],np.ones(3)*70)"
   ]
  },
  {
   "cell_type": "code",
   "execution_count": 8,
   "metadata": {},
   "outputs": [
    {
     "data": {
      "text/plain": [
       "4.529210992451761"
      ]
     },
     "execution_count": 8,
     "metadata": {},
     "output_type": "execute_result"
    }
   ],
   "source": [
    "np.linalg.cond(K[2:5,2:5])"
   ]
  },
  {
   "cell_type": "code",
   "execution_count": 9,
   "metadata": {},
   "outputs": [
    {
     "data": {
      "image/png": "[encoded data removed]",
      "text/plain": [
       "<Figure size 432x288 with 1 Axes>"
      ]
     },
     "metadata": {
      "needs_background": "light"
     },
     "output_type": "display_data"
    }
   ],
   "source": [
    "scale = 10\n",
    "r0=np.array([0,0,0.5,3**0.5/2,1,0])*1000\n",
    "u=np.zeros((6))\n",
    "u[2:5]=ufree\n",
    "ix=range(-2,6,2)\n",
    "iy=range(-1,6,2)\n",
    "F=K@u\n",
    "r=r0+u*scale\n",
    "\n",
    "plt.figure()\n",
    "plt.plot(r0[ix],r0[iy],'s-',label='orignal')\n",
    "plt.quiver(r0[ix],r0[iy],u[ix],u[iy],color=(0,1,1,1),label='displacements')\n",
    "plt.plot(r[ix],r[iy],'o-',label='deformed')\n",
    "plt.quiver(r0[ix],r0[iy],F[ix],F[iy],color=(1,0,0,1),label='applied forces')\n",
    "plt.axis([-100,1200,-100,1000])\n",
    "plt.legend(loc='center left', bbox_to_anchor=(1,0.5));\n",
    "plt.title('original and deformed structure\\nscale = {}x'.format(scale));"
   ]
  },
  {
   "cell_type": "markdown",
   "metadata": {},
   "source": [
    "# Project Matrix creation\n",
    "\n",
    "In the project, we have 7 joints _(nodes)_ and 11 bars _(elements)_. That means we have 7 locations where $\\sum\\mathbf{F} = \\mathbf{0}$ and 11 stiffness matrices $(\\mathbf{K_1}...\\mathbf{K_{11}})$. The result is 14 equations with 14 unknowns, but we have some constraints on the system. $u_{1x}=u_{1y}=0$ and $u_{7y}=0.$ Which leaves us with 11 unknowns. There are 14 applied forces $(F_{ix},~F_{iy})$ that make up the vector $\\mathbf{F}.$\n",
    "\n",
    "$\\mathbf{u}=\\left[\\begin{array}{c}\n",
    "        u_{1x}\\\\\n",
    "        u_{1y}\\\\\n",
    "        u_{2x}\\\\\n",
    "        u_{2y}\\\\\n",
    "        u_{3x}\\\\\n",
    "        u_{3y}\\\\\n",
    "        u_{4x}\\\\\n",
    "        u_{4y}\\\\\n",
    "        u_{5x}\\\\\n",
    "        u_{5y}\\\\\n",
    "        u_{6x}\\\\\n",
    "        u_{6y}\\\\\n",
    "        u_{7x}\\\\\n",
    "        u_{7y}\\\\\\end{array}\\right]=\n",
    "        \\left[\\begin{array}{c}\n",
    "        0\\\\\n",
    "        0\\\\\n",
    "        u_{2x}\\\\\n",
    "        u_{2y}\\\\\n",
    "        u_{3x}\\\\\n",
    "        u_{3y}\\\\\n",
    "        u_{4x}\\\\\n",
    "        u_{4y}\\\\\n",
    "        u_{5x}\\\\\n",
    "        u_{5y}\\\\\n",
    "        u_{6x}\\\\\n",
    "        u_{6y}\\\\\n",
    "        u_{7x}\\\\\n",
    "        0\\\\\\end{array}\\right]$, and $\\mathbf{F} = \\mathbf{K_1 u}+...+\\mathbf{K_{11} u}$"
   ]
  },
  {
   "cell_type": "markdown",
   "metadata": {},
   "source": [
    "## Node and element arrays\n",
    "\n",
    "In FEA, we typically store the node locations and their connections in two arrays called the node array: `nodes` and the element array: `elems`. The array `nodes` stores the node number and its x-y location. The array `elems` stores the node numbers that define each element. Our `nodes` and `elems` are printed below. "
   ]
  },
  {
   "cell_type": "code",
   "execution_count": 10,
   "metadata": {},
   "outputs": [
    {
     "name": "stdout",
     "output_type": "stream",
     "text": [
      "node array\n",
      "---------------\n",
      "[[  1.           0.           0.        ]\n",
      " [  2.         150.         259.80762114]\n",
      " [  3.         300.           0.        ]\n",
      " [  4.         450.         259.80762114]\n",
      " [  5.         600.           0.        ]\n",
      " [  6.         750.         259.80762114]\n",
      " [  7.         900.           0.        ]]\n",
      "element array\n",
      "---------------\n",
      "[[ 1  1  2]\n",
      " [ 2  2  3]\n",
      " [ 3  1  3]\n",
      " [ 4  2  4]\n",
      " [ 5  3  4]\n",
      " [ 6  3  5]\n",
      " [ 7  4  5]\n",
      " [ 8  4  6]\n",
      " [ 9  5  6]\n",
      " [10  5  7]\n",
      " [11  6  7]]\n"
     ]
    }
   ],
   "source": [
    "l=300 # mm\n",
    "nodes = np.array([[1,0,0],[2,0.5,3**0.5/2],[3,1,0],[4,1.5,3**0.5/2],[5,2,0],[6,2.5,3**0.5/2],[7,3,0]])\n",
    "nodes[:,1:3]*=l\n",
    "elems = np.array([[1,1,2],[2,2,3],[3,1,3],[4,2,4],[5,3,4],[6,3,5],[7,4,5],[8,4,6],[9,5,6],[10,5,7],[11,6,7]])\n",
    "print('node array\\n---------------')\n",
    "print(nodes)\n",
    "print('element array\\n---------------')\n",
    "print(elems)"
   ]
  },
  {
   "cell_type": "markdown",
   "metadata": {},
   "source": [
    "We can plot the mesh in different ways, here I have chosen to loop through each triangle in the mesh, $node~1\\rightarrow node~2\\rightarrow node~3 \\rightarrow node~1 \\rightarrow node~2 \\rightarrow node~3 \\rightarrow ...$\n",
    "\n",
    "I create an array where each column is a loop around each triangle in the support structure for the x- and y-coords, `ix` and `iy`, respectively. \n",
    "\n",
    "The vector `r` is the coordinates for the structure, so $\\mathbf{r} = \\mathbf{r}_0+\\mathbf{u}$, where $\\mathbf{r}_0$ is the location of each node without forces applied and $\\mathbf{u}$ is the distance each node moves after a force is applied. "
   ]
  },
  {
   "cell_type": "code",
   "execution_count": 11,
   "metadata": {},
   "outputs": [
    {
     "data": {
      "text/plain": [
       "array([  0.        ,   0.        , 150.        , 259.80762114,\n",
       "       300.        ,   0.        , 450.        , 259.80762114,\n",
       "       600.        ,   0.        , 750.        , 259.80762114,\n",
       "       900.        ,   0.        ])"
      ]
     },
     "execution_count": 11,
     "metadata": {},
     "output_type": "execute_result"
    }
   ],
   "source": [
    "ix = 2*np.block([[np.arange(0,5)],[np.arange(1,6)],[np.arange(2,7)],[np.arange(0,5)]])\n",
    "iy = ix+1\n",
    "\n",
    "r = np.block([n[1:3] for n in nodes])\n",
    "r"
   ]
  },
  {
   "cell_type": "code",
   "execution_count": 12,
   "metadata": {},
   "outputs": [
    {
     "data": {
      "image/png": "[encoded data removed]",
      "text/plain": [
       "<Figure size 432x288 with 1 Axes>"
      ]
     },
     "metadata": {
      "needs_background": "light"
     },
     "output_type": "display_data"
    }
   ],
   "source": [
    "plt.plot(r[ix],r[iy],'-',color='k')\n",
    "plt.plot(r[ix],r[iy],'o',color='b')\n",
    "plt.plot(r[0],r[1],'^',color='r',markersize=20)\n",
    "plt.plot(r[0],r[1],'>',color='k',markersize=20)\n",
    "plt.plot(r[-2],r[-1],'^',color='r',markersize=20)\n",
    "# label the nodes\n",
    "for n in nodes:\n",
    "    if n[2]>0.8*l: offset=0.1\n",
    "    else: offset=-l/5\n",
    "    plt.text(n[1]-l/3,n[2]+offset,'n {}'.format(int(n[0])),color='b')\n",
    "# label the elements\n",
    "for e in elems:\n",
    "    n1=nodes[e[1]-1]\n",
    "    n2=nodes[e[2]-1]\n",
    "    x=np.mean([n2[1],n1[1]])\n",
    "    y=np.mean([n2[2],n1[2]])\n",
    "    # ----------------->need elem labels<-----------------\n",
    "    plt.text(x-l/5,y-l/10,'el {}'.format(int(e[0])),color='r')\n",
    "plt.title('Our truss structure\\neach element is 2 nodes and length L\\ntriangle markers are constraints')\n",
    "plt.xlabel('x (mm)')\n",
    "plt.ylabel('y (mm)')\n",
    "plt.axis(l*np.array([-0.5,3.5,-1,1.5]));"
   ]
  },
  {
   "cell_type": "markdown",
   "metadata": {},
   "source": [
    "## Assemble the stiffness matrix\n",
    "\n",
    "Creating the matrix to represent $\\mathbf{K} = \\mathbf{K}_1+...\\mathbf{K}_{11}$ is called __assembling the stiffness matrix__. We loop through each element and add the individual stiffness matrices, the same way we did for the 3-element truss above. First, we define our $\\mathbf{K_{el}}$ function, `Kel(node1,node2)`. The nodes define the initial length and the angle of the beam element. We can multipy the stiffness matrix by $EA$ to get the actual N/m stiffness term. In our case, each beam is the same material and cross section, so we can factor out $EA$."
   ]
  },
  {
   "cell_type": "code",
   "execution_count": 13,
   "metadata": {},
   "outputs": [],
   "source": [
    "def Kel(node1,node2):\n",
    "    '''Kel(node1,node2) returns the diagonal and off-diagonal element stiffness matrices based upon\n",
    "    initial angle of a beam element and its length the full element stiffness is\n",
    "    K_el = np.block([[Ke1,Ke2],[Ke2,Ke1]])\n",
    "    \n",
    "    Out: [Ke1 Ke2]\n",
    "         [Ke2 Ke1]   \n",
    "    arguments:\n",
    "    ----------\n",
    "    node1: is the 1st node number and coordinates from the nodes array\n",
    "    node2: is the 2nd node number and coordinates from the nodes array\n",
    "    outputs:\n",
    "    ----------\n",
    "    Ke1 : the diagonal matrix of the element stiffness\n",
    "    Ke2 : the off-diagonal matrix of the element stiffness\n",
    "    '''\n",
    "    a = np.arctan2(node2[2]-node1[2],node2[1]-node1[1])\n",
    "    l = np.sqrt((node2[2]-node1[2])**2+(node2[1]-node1[1])**2)\n",
    "    Ke1 = 1/l*np.array([[np.cos(a)**2,np.cos(a)*np.sin(a)],[np.cos(a)*np.sin(a),np.sin(a)**2]])\n",
    "    Ke2 = 1/l*np.array([[-np.cos(a)**2,-np.cos(a)*np.sin(a)],[-np.cos(a)*np.sin(a),-np.sin(a)**2]])\n",
    "    return Ke1,Ke2"
   ]
  },
  {
   "cell_type": "markdown",
   "metadata": {},
   "source": [
    "Next, we loop through each element (1-11) and add each element stiffness term to the _global_ stiffness matrix, $\\mathbf{K}$. The result is a $14\\times 14$ array that satisfies our $\\sum \\mathbf{F} = \\mathbf{0}$ at all 7 nodes. \n",
    "\n",
    "$\\mathbf{F} = \\mathbf{Ku}$"
   ]
  },
  {
   "cell_type": "code",
   "execution_count": 20,
   "metadata": {},
   "outputs": [],
   "source": [
    "K=np.zeros((len(nodes)*2,len(nodes)*2))\n",
    "for e in elems:\n",
    "    ni = nodes[e[1]-1]\n",
    "    nj = nodes[e[2]-1]\n",
    "    \n",
    "    Ke1,Ke2 = Kel(ni,nj)\n",
    "    #--> assemble K <--\n",
    "    i1=int(ni[0])*2-2\n",
    "    i2=int(ni[0])*2\n",
    "    j1=int(nj[0])*2-2\n",
    "    j2=int(nj[0])*2\n",
    "    \n",
    "    K[i1:i2,i1:i2]+=Ke1\n",
    "    K[j1:j2,j1:j2]+=Ke1\n",
    "    K[i1:i2,j1:j2]+=Ke2\n",
    "    K[j1:j2,i1:i2]+=Ke2"
   ]
  },
  {
   "cell_type": "code",
   "execution_count": 28,
   "metadata": {},
   "outputs": [
    {
     "name": "stdout",
     "output_type": "stream",
     "text": [
      " \\left[ \\begin{array}{cccccccccccccc}\n",
      " 4.2 & 1.4 & -0.8 & -1.4 & -3.3 & 0.0 & 0.0 & 0.0 & 0.0 & 0.0 & 0.0 & 0.0 & 0.0 & 0.0 \\\\\n",
      " 1.4 & 2.5 & -1.4 & -2.5 & 0.0 & 0.0 & 0.0 & 0.0 & 0.0 & 0.0 & 0.0 & 0.0 & 0.0 & 0.0 \\\\\n",
      " -0.8 & -1.4 & 5.0 & 0.0 & -0.8 & 1.4 & -3.3 & 0.0 & 0.0 & 0.0 & 0.0 & 0.0 & 0.0 & 0.0 \\\\\n",
      " -1.4 & -2.5 & 0.0 & 5.0 & 1.4 & -2.5 & 0.0 & 0.0 & 0.0 & 0.0 & 0.0 & 0.0 & 0.0 & 0.0 \\\\\n",
      " -3.3 & 0.0 & -0.8 & 1.4 & 8.3 & 0.0 & -0.8 & -1.4 & -3.3 & 0.0 & 0.0 & 0.0 & 0.0 & 0.0 \\\\\n",
      " 0.0 & 0.0 & 1.4 & -2.5 & 0.0 & 5.0 & -1.4 & -2.5 & 0.0 & 0.0 & 0.0 & 0.0 & 0.0 & 0.0 \\\\\n",
      " 0.0 & 0.0 & -3.3 & 0.0 & -0.8 & -1.4 & 8.3 & 0.0 & -0.8 & 1.4 & -3.3 & 0.0 & 0.0 & 0.0 \\\\\n",
      " 0.0 & 0.0 & 0.0 & 0.0 & -1.4 & -2.5 & 0.0 & 5.0 & 1.4 & -2.5 & 0.0 & 0.0 & 0.0 & 0.0 \\\\\n",
      " 0.0 & 0.0 & 0.0 & 0.0 & -3.3 & 0.0 & -0.8 & 1.4 & 8.3 & 0.0 & -0.8 & -1.4 & -3.3 & 0.0 \\\\\n",
      " 0.0 & 0.0 & 0.0 & 0.0 & 0.0 & 0.0 & 1.4 & -2.5 & 0.0 & 5.0 & -1.4 & -2.5 & 0.0 & 0.0 \\\\\n",
      " 0.0 & 0.0 & 0.0 & 0.0 & 0.0 & 0.0 & -3.3 & 0.0 & -0.8 & -1.4 & 5.0 & 0.0 & -0.8 & 1.4 \\\\\n",
      " 0.0 & 0.0 & 0.0 & 0.0 & 0.0 & 0.0 & 0.0 & 0.0 & -1.4 & -2.5 & 0.0 & 5.0 & 1.4 & -2.5 \\\\\n",
      " 0.0 & 0.0 & 0.0 & 0.0 & 0.0 & 0.0 & 0.0 & 0.0 & -3.3 & 0.0 & -0.8 & 1.4 & 4.2 & -1.4 \\\\\n",
      " 0.0 & 0.0 & 0.0 & 0.0 & 0.0 & 0.0 & 0.0 & 0.0 & 0.0 & 0.0 & 1.4 & -2.5 & -1.4 & 2.5 \\\\\n",
      "\\end{array}\\right]\n",
      "\n",
      "\n"
     ]
    }
   ],
   "source": [
    "pp.array_latex([K*1000],['[K]'])"
   ]
  },
  {
   "cell_type": "markdown",
   "metadata": {},
   "source": [
    "# Save the inputs for the project\n",
    "\n",
    "Here, we save the arrays needed to work on the project as a Linear Algebra problem. We need the `nodes`, `elems`, and `K` arrays. So, we save them in the file `fea_arrays.npz`."
   ]
  },
  {
   "cell_type": "code",
   "execution_count": 22,
   "metadata": {},
   "outputs": [],
   "source": [
    "np.savez('fea_arrays',nodes=nodes,elems=elems,K=K)"
   ]
  },
  {
   "cell_type": "markdown",
   "metadata": {},
   "source": [
    "# Solution for our FEA problem\n",
    "\n",
    "In FEA, you have applied forces, in $\\mathbf{F}$, and displacement in $\\mathbf{u}.$ Typically, you have a mix of known and unknown forces and displacements. In our example, we have 14 degrees of freedom - 3 constraints for our displacements. So, we solve the problem in two steps\n",
    "\n",
    "1. solve for the free nodes `uf` $\\rightarrow \\mathbf{K}[2:13,2:13] \\mathbf{u}[2:13] = \\mathbf{F} [2:13]$\n",
    "\n",
    "2. plug in `u` to solve for `F` at constrained degrees of freedom $\\rightarrow \\mathbf{F}=\\mathbf{K}\\mathbf{u}$"
   ]
  },
  {
   "cell_type": "code",
   "execution_count": 1,
   "metadata": {},
   "outputs": [
    {
     "ename": "NameError",
     "evalue": "name 'np' is not defined",
     "output_type": "error",
     "traceback": [
      "\u001b[0;31m---------------------------------------------------------------------------\u001b[0m",
      "\u001b[0;31mNameError\u001b[0m                                 Traceback (most recent call last)",
      "\u001b[0;32m<ipython-input-1-82a05ec570ee>\u001b[0m in \u001b[0;36m<module>\u001b[0;34m\u001b[0m\n\u001b[1;32m      1\u001b[0m \u001b[0mE\u001b[0m\u001b[0;34m=\u001b[0m\u001b[0;36m200e3\u001b[0m\u001b[0;34m\u001b[0m\u001b[0;34m\u001b[0m\u001b[0m\n\u001b[1;32m      2\u001b[0m \u001b[0mA\u001b[0m\u001b[0;34m=\u001b[0m\u001b[0;36m0.1\u001b[0m\u001b[0;34m\u001b[0m\u001b[0;34m\u001b[0m\u001b[0m\n\u001b[0;32m----> 3\u001b[0;31m \u001b[0mFf\u001b[0m\u001b[0;34m=\u001b[0m\u001b[0mnp\u001b[0m\u001b[0;34m.\u001b[0m\u001b[0mzeros\u001b[0m\u001b[0;34m(\u001b[0m\u001b[0;36m11\u001b[0m\u001b[0;34m)\u001b[0m\u001b[0;34m\u001b[0m\u001b[0;34m\u001b[0m\u001b[0m\n\u001b[0m\u001b[1;32m      4\u001b[0m \u001b[0mFf\u001b[0m\u001b[0;34m[\u001b[0m\u001b[0;36m5\u001b[0m\u001b[0;34m]\u001b[0m\u001b[0;34m=\u001b[0m\u001b[0;34m-\u001b[0m\u001b[0;36m100\u001b[0m\u001b[0;34m\u001b[0m\u001b[0;34m\u001b[0m\u001b[0m\n\u001b[1;32m      5\u001b[0m \u001b[0mprint\u001b[0m\u001b[0;34m(\u001b[0m\u001b[0mFf\u001b[0m\u001b[0;34m)\u001b[0m\u001b[0;34m\u001b[0m\u001b[0;34m\u001b[0m\u001b[0m\n",
      "\u001b[0;31mNameError\u001b[0m: name 'np' is not defined"
     ]
    }
   ],
   "source": [
    "E=200e3\n",
    "A=0.1\n",
    "Ff=np.zeros(2*len(nodes)-3)\n",
    "Ff[5]=-100\n",
    "print(Ff)\n",
    "# step 1 solve for uf (the joints without constraints)\n",
    "uf = np.linalg.solve(E*A*K[2:13,2:13],Ff)\n",
    "u=np.zeros(2*len(nodes))\n",
    "u[2:13]=uf\n",
    "\n",
    "# step 2 solve for F (the solution should include reactions and applied forces)\n",
    "F=E*A*K@u\n",
    "print(F[2:13])\n"
   ]
  },
  {
   "cell_type": "code",
   "execution_count": 45,
   "metadata": {},
   "outputs": [
    {
     "name": "stdout",
     "output_type": "stream",
     "text": [
      "displacements:\n",
      "----------------\n",
      "u_1x:0.00 mm\n",
      "u_1y:0.00 mm\n",
      "u_2x:1.95 mm\n",
      "u_2y:-2.12 mm\n",
      "u_3x:0.43 mm\n",
      "u_3y:-4.00 mm\n",
      "u_4x:1.08 mm\n",
      "u_4y:-5.37 mm\n",
      "u_5x:1.73 mm\n",
      "u_5y:-4.00 mm\n",
      "u_6x:0.22 mm\n",
      "u_6y:-2.12 mm\n",
      "u_7x:2.17 mm\n",
      "u_7y:0.00 mm\n",
      "\n",
      "forces:\n",
      "----------------\n",
      "F_1x:-0.00 N\n",
      "F_1y:50.00 N\n",
      "F_2x:0.00 N\n",
      "F_2y:0.00 N\n",
      "F_3x:-0.00 N\n",
      "F_3y:0.00 N\n",
      "F_4x:0.00 N\n",
      "F_4y:-100.00 N\n",
      "F_5x:0.00 N\n",
      "F_5y:0.00 N\n",
      "F_6x:-0.00 N\n",
      "F_6y:0.00 N\n",
      "F_7x:0.00 N\n",
      "F_7y:50.00 N\n"
     ]
    }
   ],
   "source": [
    "xy={0:'x',1:'y'}\n",
    "print('displacements:\\n----------------')\n",
    "for i in range(len(u)):\n",
    "    print('u_{}{}:{:.2f} mm'.format(int(i/2)+1,xy[i%2],u[i]))\n",
    "print('\\nforces:\\n----------------')\n",
    "for i in range(len(F)):\n",
    "    print('F_{}{}:{:.2f} N'.format(int(i/2)+1,xy[i%2],F[i]))"
   ]
  },
  {
   "cell_type": "markdown",
   "metadata": {},
   "source": [
    "# Postprocess FEA results\n",
    "\n",
    "The last step in FEA (and any applied linear algebra problem), is to post-process the results. I have chosen to show the deflections of each joint and the applied forces at each node. I imported the `interact` widget to animate the deformation of the structure. What you should see is that the sum of external forces $\\sum F_x=0$ and $\\sum F_y=0$. This is what we see, since our the sum of the reaction forces is equal to the applied force. "
   ]
  },
  {
   "cell_type": "code",
   "execution_count": 43,
   "metadata": {},
   "outputs": [
    {
     "data": {
      "application/vnd.jupyter.widget-view+json": {
       "model_id": "6f9b885a160e4e9a9bc89ccd96605ec4",
       "version_major": 2,
       "version_minor": 0
      },
      "text/plain": [
       "interactive(children=(IntSlider(value=5, description='s', max=10), Output()), _dom_classes=('widget-interact',…"
      ]
     },
     "metadata": {},
     "output_type": "display_data"
    }
   ],
   "source": [
    "from __future__ import print_function\n",
    "from ipywidgets import interact, interactive, fixed, interact_manual\n",
    "import ipywidgets as widgets\n",
    "\n",
    "def f(s):\n",
    "    plt.plot(r[ix],r[iy],'-',color=(0,0,0,1))\n",
    "    plt.plot(r[ix]+u[ix]*s,r[iy]+u[iy]*s,'-',color=(1,0,0,1))\n",
    "    #plt.quiver(r[ix],r[iy],u[ix],u[iy],color=(0,0,1,1),label='displacements')\n",
    "    plt.quiver(r[ix],r[iy],F[ix],F[iy],color=(1,0,0,1),label='applied forces')\n",
    "    plt.quiver(r[ix],r[iy],u[ix],u[iy],color=(0,0,1,1),label='displacements')\n",
    "    plt.axis(l*np.array([-0.5,3.5,-0.5,2]))\n",
    "    plt.xlabel('x (mm)')\n",
    "    plt.ylabel('y (mm)')\n",
    "    plt.title('Deformation scale = {:.1f}x'.format(s))\n",
    "    plt.legend(bbox_to_anchor=(1,0.5))\n",
    "interact(f,s=(0,10,1));"
   ]
  },
  {
   "cell_type": "code",
   "execution_count": 56,
   "metadata": {},
   "outputs": [],
   "source": [
    "steel=np.loadtxt('../data/steel_price.csv',skiprows=1,delimiter=',')\n",
    "al = np.loadtxt('../data/al_price.csv',skiprows=1,delimiter=',')"
   ]
  },
  {
   "cell_type": "code",
   "execution_count": 57,
   "metadata": {},
   "outputs": [
    {
     "data": {
      "text/plain": [
       "[<matplotlib.lines.Line2D at 0x7fc8fd7b9c50>]"
      ]
     },
     "execution_count": 57,
     "metadata": {},
     "output_type": "execute_result"
    },
    {
     "data": {
      "image/png": "[encoded data removed]",
      "text/plain": [
       "<Figure size 432x288 with 1 Axes>"
      ]
     },
     "metadata": {
      "needs_background": "light"
     },
     "output_type": "display_data"
    }
   ],
   "source": [
    "plt.plot(steel[:,0],steel[:,1])\n",
    "plt.plot(al[:,0],al[:,1])"
   ]
  },
  {
   "cell_type": "code",
   "execution_count": null,
   "metadata": {},
   "outputs": [],
   "source": []
  }
 ],
 "metadata": {
  "kernelspec": {
   "display_name": "Python 3",
   "language": "python",
   "name": "python3"
  },
  "language_info": {
   "codemirror_mode": {
    "name": "ipython",
    "version": 3
   },
   "file_extension": ".py",
   "mimetype": "text/x-python",
   "name": "python",
   "nbconvert_exporter": "python",
   "pygments_lexer": "ipython3",
   "version": "3.7.7"
  }
 },
 "nbformat": 4,
 "nbformat_minor": 4
}
