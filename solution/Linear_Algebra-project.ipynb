{
 "cells": [
  {
   "cell_type": "markdown",
   "metadata": {},
   "source": [
    "# HVAC Linear Algebra project\n",
    "\n",
    "![HVAC diagram showing the flow rates and connections between floors](../images/hvac.png)\n",
    "\n",
    "In the figure above you have an idealized Heating, Ventilation and Air conditioning (HVAC) system. In the current configuration, the three-room building is being cooled off by $T_{in}=15^oC$ air fed into the building at 0.1 kg/s. Our goal is to determine the steady-state temperatures of the rooms given the following information"
   ]
  },
  {
   "cell_type": "markdown",
   "metadata": {},
   "source": [
    "* $\\dot{m}_1=0.1~kg/s$\n",
    "* $\\dot{m}_2=0.15~kg/s$\n",
    "* $\\dot{m}_3=0.17~kg/s$\n",
    "* $\\dot{m}_4=0.1~kg/s$\n",
    "* $\\dot{m}_5=0.07~kg/s$\n",
    "* $\\dot{m}_6=0.05~kg/s$\n",
    "* $C_p=1000~\\frac{J}{kg-C}$\n",
    "* $\\dot{Q}_{in} = 500~W$\n",
    "* $T_{in} = 15^{o} C$\n",
    "\n",
    "The energy-balance equations for rooms 1-3 create three equations:\n",
    "\n",
    "1. $\\dot{m}_1 C_p T_{in}+\\dot{Q}_{in}-\\dot{m}_2 C_p T_{1}+\\dot{m}_6 C_p T_{2} = 0$\n",
    "\n",
    "2. $\\dot{m}_2 C_p T_{1}+\\dot{Q}_{in}+\\dot{m}_5 C_p T_{3}-\\dot{m}_3 C_p T_{2}-\\dot{m}_6 C_p T_{2} = 0$\n",
    "\n",
    "3. $\\dot{m}_3 C_p T_{2}+\\dot{Q}_{in}-\\dot{m}_5 C_p T_{3}-\\dot{m}_4 C_p T_{3} = 0$\n",
    "\n",
    "Identify the unknown variables and constants to create a linear algebra problem in the form of $\\mathbf{Ax}=\\mathbf{b}$.\n",
    "\n",
    "a. Create the matrix $\\mathbf{A}$\n",
    "\n",
    "b. Create the known vector $\\mathbf{b}$\n",
    "\n",
    "c. Solve for the unknown variables, $\\mathbf{x}$\n",
    "\n",
    "d. What are the warmest and coldest rooms? What are their temperatures?"
   ]
  },
  {
   "cell_type": "code",
   "execution_count": 1,
   "metadata": {},
   "outputs": [],
   "source": [
    "import numpy as np"
   ]
  },
  {
   "cell_type": "code",
   "execution_count": 2,
   "metadata": {},
   "outputs": [
    {
     "name": "stdout",
     "output_type": "stream",
     "text": [
      "[[-150.   50.    0.]\n",
      " [ 150. -220.   70.]\n",
      " [   0.  170. -170.]]\n"
     ]
    }
   ],
   "source": [
    "Q = 500\n",
    "m1 = 0.1\n",
    "m2 = 0.15\n",
    "m3 = 0.17\n",
    "m4 = 0.1\n",
    "m5 = 0.07\n",
    "m6 = 0.05\n",
    "C = 1000\n",
    "Tin = 15\n",
    "# part (a)\n",
    "\n",
    "A = np.array([[-m2*C, m6*C, 0],\n",
    "              [m2*C, -(m3+m6)*C, m5*C],\n",
    "              [0, m3*C, -(m4+m5)*C]])\n",
    "print(A)"
   ]
  },
  {
   "cell_type": "code",
   "execution_count": 3,
   "metadata": {},
   "outputs": [
    {
     "name": "stdout",
     "output_type": "stream",
     "text": [
      "[-2000.  -500.  -500.]\n"
     ]
    }
   ],
   "source": [
    "# part (b)\n",
    "b = np.array([-Q-m1*C*Tin,\n",
    "             -Q,\n",
    "             -Q])\n",
    "print(b)"
   ]
  },
  {
   "cell_type": "code",
   "execution_count": 4,
   "metadata": {},
   "outputs": [
    {
     "name": "stdout",
     "output_type": "stream",
     "text": [
      "[22.35294118 27.05882353 30.        ]\n"
     ]
    }
   ],
   "source": [
    "# part (c)\n",
    "x = np.linalg.solve(A,b)\n",
    "print(x)"
   ]
  },
  {
   "cell_type": "markdown",
   "metadata": {},
   "source": [
    "# Part (d) solution:\n",
    "\n",
    "The warmest room is number 3 - $T_3 = 30^o$\n",
    "\n",
    "The coolest room is number 1 - $T_1 = 22.4^o$"
   ]
  }
 ],
 "metadata": {
  "kernelspec": {
   "display_name": "Python 3",
   "language": "python",
   "name": "python3"
  },
  "language_info": {
   "codemirror_mode": {
    "name": "ipython",
    "version": 3
   },
   "file_extension": ".py",
   "mimetype": "text/x-python",
   "name": "python",
   "nbconvert_exporter": "python",
   "pygments_lexer": "ipython3",
   "version": "3.7.3"
  }
 },
 "nbformat": 4,
 "nbformat_minor": 4
}
