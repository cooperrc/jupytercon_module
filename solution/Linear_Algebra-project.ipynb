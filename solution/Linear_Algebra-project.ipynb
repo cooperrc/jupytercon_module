{
 "cells": [
  {
   "cell_type": "markdown",
   "metadata": {},
   "source": [
    "# HVAC Linear Algebra project\n",
    "\n",
    "![HVAC diagram showing the flow rates and connections between floors](../images/hvac.png)\n",
    "\n",
    "In the figure above you have an idealized Heating, Ventilation and Air conditioning (HVAC) system. In the current configuration, the three-room building is being cooled off by $T_{in}=15^oC$ air fed into the building at 0.1 kg/s. Our goal is to determine the steady-state temperatures of the rooms given the following information"
   ]
  },
  {
   "cell_type": "markdown",
   "metadata": {},
   "source": [
    "* $\\dot{m}_1=0.1~kg/s$\n",
    "* $\\dot{m}_2=0.15~kg/s$\n",
    "* $\\dot{m}_3=0.17~kg/s$\n",
    "* $\\dot{m}_4=0.1~kg/s$\n",
    "* $\\dot{m}_5=0.07~kg/s$\n",
    "* $\\dot{m}_6=0.05~kg/s$\n",
    "* $C_p=1000~\\frac{J}{kg-C}$\n",
    "* $\\dot{Q}_{in} = 500~W$\n",
    "* $T_{in} = 15^{o} C$\n",
    "\n",
    "The energy-balance equations for rooms 1-3 create three equations:\n",
    "\n",
    "1. $\\dot{m}_1 C_p T_{in}+\\dot{Q}_{in}-\\dot{m}_2 C_p T_{1}+\\dot{m}_6 C_p T_{2} = 0$\n",
    "\n",
    "2. $\\dot{m}_2 C_p T_{1}+\\dot{Q}_{in}+\\dot{m}_5 C_p T_{3}-\\dot{m}_3 C_p T_{2}-\\dot{m}_6 C_p T_{2} = 0$\n",
    "\n",
    "3. $\\dot{m}_3 C_p T_{2}+\\dot{Q}_{in}-\\dot{m}_5 C_p T_{3}-\\dot{m}_4 C_p T_{3} = 0$\n",
    "\n",
    "Identify the unknown variables and constants to create a linear algebra problem in the form of $\\mathbf{Ax}=\\mathbf{b}$.\n",
    "\n",
    "a. Create the matrix $\\mathbf{A}$\n",
    "\n",
    "b. Create the known vector $\\mathbf{b}$\n",
    "\n",
    "c. Solve for the unknown variables, $\\mathbf{x}$\n",
    "\n",
    "d. What are the warmest and coldest rooms? What are their temperatures?"
   ]
  },
  {
   "cell_type": "code",
   "execution_count": null,
   "metadata": {},
   "outputs": [],
   "source": []
  }
 ],
 "metadata": {
  "kernelspec": {
   "display_name": "Python 3",
   "language": "python",
   "name": "python3"
  },
  "language_info": {
   "codemirror_mode": {
    "name": "ipython",
    "version": 3
   },
   "file_extension": ".py",
   "mimetype": "text/x-python",
   "name": "python",
   "nbconvert_exporter": "python",
   "pygments_lexer": "ipython3",
   "version": "3.7.3"
  }
 },
 "nbformat": 4,
 "nbformat_minor": 4
}
